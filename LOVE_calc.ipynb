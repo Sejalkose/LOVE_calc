{
  "nbformat": 4,
  "nbformat_minor": 0,
  "metadata": {
    "colab": {
      "provenance": [],
      "authorship_tag": "ABX9TyMeU2U3XJXv3zqYNyljkQO8",
      "include_colab_link": true
    },
    "kernelspec": {
      "name": "python3",
      "display_name": "Python 3"
    },
    "language_info": {
      "name": "python"
    }
  },
  "cells": [
    {
      "cell_type": "markdown",
      "metadata": {
        "id": "view-in-github",
        "colab_type": "text"
      },
      "source": [
        "<a href=\"https://colab.research.google.com/github/Sejalkose/LOVE_calc/blob/main/LOVE_calc.ipynb\" target=\"_parent\"><img src=\"https://colab.research.google.com/assets/colab-badge.svg\" alt=\"Open In Colab\"/></a>"
      ]
    },
    {
      "cell_type": "code",
      "execution_count": 5,
      "metadata": {
        "colab": {
          "base_uri": "https://localhost:8080/"
        },
        "id": "1iGtcPv1EZhz",
        "outputId": "385a381f-53b1-4e89-fb13-27e426e5f30d"
      },
      "outputs": [
        {
          "output_type": "stream",
          "name": "stdout",
          "text": [
            "The Love Calculator is calculating your score...\n",
            "What is your name? onkar kose\n",
            "What is their name? swati kose\n",
            "Your score is 45, you are alright together.\n"
          ]
        }
      ],
      "source": [
        "print(\"The Love Calculator is calculating your score...\")\n",
        "name1 = input(\"What is your name? \")\n",
        "name2 = input(\"What is their name? \")\n",
        "\n",
        "\n",
        "names = name1 + name2\n",
        "lower_names = names.lower()\n",
        "t = lower_names.count(\"t\")\n",
        "r = lower_names.count(\"r\")\n",
        "u = lower_names.count(\"u\")\n",
        "e = lower_names.count(\"e\")\n",
        "first_digit = t + r + u + e\n",
        "\n",
        "l = lower_names.count(\"l\")\n",
        "o = lower_names.count(\"o\")\n",
        "v = lower_names.count(\"v\")\n",
        "e = lower_names.count(\"e\")\n",
        "second_digit = l + o + v + e\n",
        "\n",
        "score = int(str(first_digit) + str(second_digit))\n",
        "if(score < 10 or score > 90):\n",
        "  print(f\"Your score is {score}, you go together like coke and mentos.\")\n",
        "elif(score > 40 and score <50):\n",
        "  print(f\"Your score is {score}, you are alright together.\")\n",
        "else:\n",
        "  print(f\"Your score is {score}.\")\n",
        "\n",
        "\n"
      ]
    }
  ]
}